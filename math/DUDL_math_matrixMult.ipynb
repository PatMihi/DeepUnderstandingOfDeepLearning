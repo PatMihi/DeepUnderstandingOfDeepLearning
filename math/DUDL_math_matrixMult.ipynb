{
 "cells": [
  {
   "cell_type": "markdown",
   "metadata": {
    "id": "bhWV8oes-wKR"
   },
   "source": [
    "# COURSE: A deep understanding of deep learning\n",
    "## SECTION: Math prerequisites\n",
    "### LECTURE: Matrix multiplication\n",
    "#### TEACHER: Mike X Cohen, sincxpress.com\n",
    "##### COURSE URL: udemy.com/course/deeplearning_x/?couponCode=202401"
   ]
  },
  {
   "cell_type": "code",
   "execution_count": 1,
   "metadata": {
    "id": "vRQNyNtlDoOb"
   },
   "outputs": [],
   "source": [
    "# import libraries\n",
    "import numpy as np\n",
    "import torch"
   ]
  },
  {
   "cell_type": "markdown",
   "metadata": {
    "id": "K0BSQG0fDpt_"
   },
   "source": [
    "# Using numpy"
   ]
  },
  {
   "cell_type": "code",
   "execution_count": 6,
   "metadata": {
    "id": "T4_veEYqDpx9"
   },
   "outputs": [
    {
     "name": "stdout",
     "output_type": "stream",
     "text": [
      "[[ 1.65  0.11 -0.62 -0.51]\n",
      " [ 0.64 -2.83 -0.5  -0.28]\n",
      " [ 0.63  0.16 -0.37 -0.32]\n",
      " [ 1.46 -0.13 -0.02  0.05]\n",
      " [-0.73 -0.39  1.34  1.23]\n",
      " [ 1.73  0.81  1.6   1.5 ]\n",
      " [ 0.1   1.61  0.22  0.12]]\n"
     ]
    }
   ],
   "source": [
    "# create some random matrices\n",
    "A = np.random.randn(3,4)\n",
    "B = np.random.randn(4,5)\n",
    "C = np.random.randn(3,7)\n",
    "\n",
    "# try some multiplications...\n",
    "#print(np.round( A@B   ,2)), print(' ')\n",
    "#print(np.round( A@C   ,2)), print(' ')\n",
    "#print(np.round( B@C   ,2)), print(' ')\n",
    "print(np.round( C.T@A ,2))"
   ]
  },
  {
   "cell_type": "markdown",
   "metadata": {
    "id": "89qsNy19Dp1U"
   },
   "source": [
    "# Using pytorch"
   ]
  },
  {
   "cell_type": "code",
   "execution_count": 12,
   "metadata": {
    "id": "4Yrdf4WOEjxz"
   },
   "outputs": [
    {
     "name": "stdout",
     "output_type": "stream",
     "text": [
      "tensor([[-1.9400,  2.1000,  0.3100,  0.3200, -2.3100,  0.6900, -1.8100],\n",
      "        [ 1.2600,  1.9800, -0.2000,  1.9900, -2.8900,  1.4500,  2.5200],\n",
      "        [ 1.9700, -0.8600, -0.5900,  1.6100,  2.2400,  0.6600,  2.3200]])\n"
     ]
    }
   ],
   "source": [
    "# create some random matrices\n",
    "A  = torch.randn(3,4)\n",
    "B  = torch.randn(4,5)\n",
    "C1 = np.random.randn(4,7)\n",
    "C2 = torch.tensor( C1,dtype=torch.float )\n",
    "\n",
    "# try some multiplications...\n",
    "#print(np.round( A@B   ,2)), print(' ')\n",
    "#print(np.round( A@B.T ,2)), print(' ')\n",
    "#print(np.round( A@C1  ,2)), print(' ')\n",
    "print(np.round( A@C2  ,2))"
   ]
  }
 ],
 "metadata": {
  "colab": {
   "authorship_tag": "ABX9TyN3xNttY0efRLiZkxgkBGe2",
   "collapsed_sections": [],
   "name": "DUDL_math_matrixMult.ipynb",
   "provenance": []
  },
  "kernelspec": {
   "display_name": "MLFlow_env",
   "language": "python",
   "name": "python3"
  },
  "language_info": {
   "codemirror_mode": {
    "name": "ipython",
    "version": 3
   },
   "file_extension": ".py",
   "mimetype": "text/x-python",
   "name": "python",
   "nbconvert_exporter": "python",
   "pygments_lexer": "ipython3",
   "version": "3.10.14"
  }
 },
 "nbformat": 4,
 "nbformat_minor": 0
}
