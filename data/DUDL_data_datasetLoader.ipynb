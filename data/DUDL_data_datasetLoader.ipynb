{
 "cells": [
  {
   "cell_type": "markdown",
   "metadata": {
    "id": "bhWV8oes-wKR"
   },
   "source": [
    "# COURSE: A deep understanding of deep learning\n",
    "## SECTION: Data matrices and loaders\n",
    "### LECTURE: Anatomy of a torch dataset and dataloader\n",
    "#### TEACHER: Mike X Cohen, sincxpress.com\n",
    "##### COURSE URL: udemy.com/course/deeplearning_x/?couponCode=202401"
   ]
  },
  {
   "cell_type": "code",
   "execution_count": 1,
   "metadata": {
    "id": "YeuAheYyhdZw"
   },
   "outputs": [],
   "source": [
    "# import libraries\n",
    "import numpy as np\n",
    "import torch\n",
    "from torch.utils.data import DataLoader,TensorDataset"
   ]
  },
  {
   "cell_type": "markdown",
   "metadata": {
    "id": "vFv_cmvApLb0"
   },
   "source": [
    "# Datasets"
   ]
  },
  {
   "cell_type": "code",
   "execution_count": 2,
   "metadata": {
    "id": "aykKFgznOako"
   },
   "outputs": [],
   "source": [
    "# create some data in numpy\n",
    "\n",
    "nObservations = 100\n",
    "nFeatures = 20\n",
    "\n",
    "data = np.random.randn(nObservations,nFeatures)"
   ]
  },
  {
   "cell_type": "code",
   "execution_count": 3,
   "metadata": {
    "id": "Y_tZ1ymVp0Sf"
   },
   "outputs": [
    {
     "name": "stdout",
     "output_type": "stream",
     "text": [
      "Numpy data:\n",
      "<class 'numpy.ndarray'>\n",
      "(100, 20)\n",
      "float64\n",
      " \n",
      "Tensor data:\n",
      "<class 'torch.Tensor'>\n",
      "torch.Size([100, 20])\n",
      "torch.float64\n",
      " \n"
     ]
    }
   ],
   "source": [
    "# Convert to pytorch tensor\n",
    "dataT = torch.tensor( data ) \n",
    "\n",
    "# print out some information\n",
    "print('Numpy data:')\n",
    "print(type(data))\n",
    "print(data.shape) # numpy -> .shape\n",
    "print(data.dtype)\n",
    "print(' ')\n",
    "\n",
    "print('Tensor data:')\n",
    "print(type(dataT))\n",
    "print(dataT.size()) # torch -> .size()\n",
    "print(dataT.dtype)\n",
    "print(' ')"
   ]
  },
  {
   "cell_type": "code",
   "execution_count": 4,
   "metadata": {
    "id": "WlSTQeZ2nDDR"
   },
   "outputs": [
    {
     "name": "stdout",
     "output_type": "stream",
     "text": [
      "torch.float32\n",
      "torch.int64\n"
     ]
    }
   ],
   "source": [
    "# Sometimes you need to convert data types\n",
    "\n",
    "dataT2 = torch.tensor( data ).float()\n",
    "print(dataT2.dtype)\n",
    "\n",
    "# \"long\" is for ints\n",
    "dataT3 = torch.tensor( data ).long()\n",
    "print(dataT3.dtype)\n"
   ]
  },
  {
   "cell_type": "code",
   "execution_count": 6,
   "metadata": {},
   "outputs": [
    {
     "data": {
      "text/plain": [
       "tensor([[ 0,  0,  0,  ...,  0,  0,  1],\n",
       "        [ 0,  0,  1,  ...,  0,  0,  0],\n",
       "        [ 2,  0,  1,  ...,  0, -1,  0],\n",
       "        ...,\n",
       "        [ 0, -2,  1,  ...,  0,  0,  0],\n",
       "        [ 0,  1,  0,  ...,  1, -1,  0],\n",
       "        [ 0,  1,  3,  ...,  0,  0,  0]])"
      ]
     },
     "execution_count": 6,
     "metadata": {},
     "output_type": "execute_result"
    }
   ],
   "source": [
    "dataT3"
   ]
  },
  {
   "cell_type": "code",
   "execution_count": 9,
   "metadata": {
    "id": "u5fGd4h8mI8a"
   },
   "outputs": [
    {
     "data": {
      "text/plain": [
       "tensor([[-0.2601, -0.9713,  0.6210,  ...,  0.3944, -0.2781,  1.3086],\n",
       "        [-0.3185, -0.5051,  1.8369,  ...,  0.3521, -0.5613, -0.0629],\n",
       "        [ 2.4158,  0.3269,  1.0094,  ..., -0.3357, -1.0568, -0.2230],\n",
       "        ...,\n",
       "        [ 0.1154, -2.4342,  1.9601,  ..., -0.9821,  0.0314,  0.3541],\n",
       "        [-0.2545,  1.3478, -0.9128,  ...,  1.5338, -1.5637, -0.9770],\n",
       "        [-0.2386,  1.1177,  3.3067,  ..., -0.4467,  0.1703,  0.9257]],\n",
       "       dtype=torch.float64)"
      ]
     },
     "execution_count": 9,
     "metadata": {},
     "output_type": "execute_result"
    }
   ],
   "source": [
    "# Convert tensor into PyTorch Datasets\n",
    "\n",
    "# dataset = TensorDataset(data) # not a tensor!\n",
    "dataset = TensorDataset(dataT)\n",
    "\n",
    "# dataset is a two-element tuple comprising data,labels\n",
    "dataset.tensors[0]"
   ]
  },
  {
   "cell_type": "code",
   "execution_count": 10,
   "metadata": {},
   "outputs": [
    {
     "data": {
      "text/plain": [
       "(tensor([[-0.2601, -0.9713,  0.6210,  ...,  0.3944, -0.2781,  1.3086],\n",
       "         [-0.3185, -0.5051,  1.8369,  ...,  0.3521, -0.5613, -0.0629],\n",
       "         [ 2.4158,  0.3269,  1.0094,  ..., -0.3357, -1.0568, -0.2230],\n",
       "         ...,\n",
       "         [ 0.1154, -2.4342,  1.9601,  ..., -0.9821,  0.0314,  0.3541],\n",
       "         [-0.2545,  1.3478, -0.9128,  ...,  1.5338, -1.5637, -0.9770],\n",
       "         [-0.2386,  1.1177,  3.3067,  ..., -0.4467,  0.1703,  0.9257]],\n",
       "        dtype=torch.float64),)"
      ]
     },
     "execution_count": 10,
     "metadata": {},
     "output_type": "execute_result"
    }
   ],
   "source": [
    "dataset.tensors"
   ]
  },
  {
   "cell_type": "code",
   "execution_count": 11,
   "metadata": {
    "id": "wpvxvxBloej3"
   },
   "outputs": [
    {
     "name": "stdout",
     "output_type": "stream",
     "text": [
      "torch.Size([100, 20])\n",
      "torch.Size([100, 1])\n",
      "(100,)\n"
     ]
    }
   ],
   "source": [
    "# Let's try again with labels\n",
    "labels = torch.ceil(torch.linspace(.01,4,nObservations))\n",
    "\n",
    "# transform to an actual matrix (column vector)\n",
    "labels = labels.reshape(( len(labels),1 ))\n",
    "# print( labels )\n",
    "\n",
    "# now make another dataset\n",
    "dataset = TensorDataset(dataT,labels)\n",
    "print( dataset.tensors[0].size() )\n",
    "print( dataset.tensors[1].size() )\n",
    "\n",
    "# for comparison\n",
    "print( np.shape(np.random.randint(5,size=nObservations)) )"
   ]
  },
  {
   "cell_type": "code",
   "execution_count": 20,
   "metadata": {},
   "outputs": [
    {
     "data": {
      "text/plain": [
       "(tensor([ 0.7607, -1.0827, -1.0460, -1.4737,  0.1439,  0.0895,  0.0740,  0.8358,\n",
       "          0.0662, -1.0842,  2.0084, -1.2590,  0.0740, -0.8535,  0.8497, -1.9365,\n",
       "         -1.8634,  0.3323,  0.6412,  0.3717], dtype=torch.float64),\n",
       " tensor([1.]))"
      ]
     },
     "execution_count": 20,
     "metadata": {},
     "output_type": "execute_result"
    }
   ],
   "source": [
    "dataset[5]"
   ]
  },
  {
   "cell_type": "markdown",
   "metadata": {
    "id": "wJ-JsNQGpIKT"
   },
   "source": [
    "# DataLoaders"
   ]
  },
  {
   "cell_type": "code",
   "execution_count": 29,
   "metadata": {
    "id": "5_kahYcanxBg"
   },
   "outputs": [
    {
     "data": {
      "text/plain": [
       "torch.Size([100, 20])"
      ]
     },
     "execution_count": 29,
     "metadata": {},
     "output_type": "execute_result"
    }
   ],
   "source": [
    "# create a dataloader object\n",
    "batchsize = 25\n",
    "dataloader = DataLoader(dataset,batch_size=batchsize,shuffle=True,drop_last=True)\n",
    "\n",
    "dataloader.dataset.tensors[0].size()"
   ]
  },
  {
   "cell_type": "code",
   "execution_count": 25,
   "metadata": {},
   "outputs": [
    {
     "data": {
      "text/plain": [
       "tensor([[-0.2601, -0.9713,  0.6210,  ...,  0.3944, -0.2781,  1.3086],\n",
       "        [-0.3185, -0.5051,  1.8369,  ...,  0.3521, -0.5613, -0.0629],\n",
       "        [ 2.4158,  0.3269,  1.0094,  ..., -0.3357, -1.0568, -0.2230],\n",
       "        ...,\n",
       "        [ 0.1154, -2.4342,  1.9601,  ..., -0.9821,  0.0314,  0.3541],\n",
       "        [-0.2545,  1.3478, -0.9128,  ...,  1.5338, -1.5637, -0.9770],\n",
       "        [-0.2386,  1.1177,  3.3067,  ..., -0.4467,  0.1703,  0.9257]],\n",
       "       dtype=torch.float64)"
      ]
     },
     "execution_count": 25,
     "metadata": {},
     "output_type": "execute_result"
    }
   ],
   "source": [
    "dataloader.dataset.tensors[0]"
   ]
  },
  {
   "cell_type": "code",
   "execution_count": 30,
   "metadata": {
    "id": "xu7BF_OTqDj0"
   },
   "outputs": [
    {
     "name": "stdout",
     "output_type": "stream",
     "text": [
      "BATCH INFO:\n",
      "torch.Size([25, 20])\n",
      "torch.Size([25, 1])\n",
      " \n",
      "BATCH INFO:\n",
      "torch.Size([25, 20])\n",
      "torch.Size([25, 1])\n",
      " \n",
      "BATCH INFO:\n",
      "torch.Size([25, 20])\n",
      "torch.Size([25, 1])\n",
      " \n",
      "BATCH INFO:\n",
      "torch.Size([25, 20])\n",
      "torch.Size([25, 1])\n",
      " \n"
     ]
    }
   ],
   "source": [
    "# sizes of each batch\n",
    "for dat,labs in dataloader:\n",
    "  print('BATCH INFO:')\n",
    "  print(dat.size())\n",
    "  print(labs.size())\n",
    "  print(' ')"
   ]
  },
  {
   "cell_type": "code",
   "execution_count": 37,
   "metadata": {
    "id": "oLkY18PZq-G3"
   },
   "outputs": [
    {
     "name": "stdout",
     "output_type": "stream",
     "text": [
      "tensor([[3., 3., 1., 3., 4., 1., 4., 2., 1., 4., 4., 2., 1., 3., 1., 4., 4., 2.,\n",
      "         4., 2., 2., 2., 3., 1., 4.]])\n",
      " \n",
      "tensor([[3., 1., 2., 2., 4., 3., 4., 3., 2., 4., 3., 1., 3., 2., 3., 4., 1., 4.,\n",
      "         1., 3., 4., 2., 3., 1., 2.]])\n",
      " \n",
      "tensor([[2., 2., 3., 4., 4., 3., 4., 2., 2., 2., 1., 1., 2., 3., 3., 1., 4., 3.,\n",
      "         3., 1., 3., 1., 1., 4., 4.]])\n",
      " \n",
      "tensor([[3., 4., 1., 2., 1., 4., 4., 1., 1., 3., 2., 1., 4., 3., 4., 2., 2., 3.,\n",
      "         3., 1., 2., 1., 2., 1., 2.]])\n",
      " \n"
     ]
    }
   ],
   "source": [
    "# inspect the labels\n",
    "for dat,labs in dataloader:\n",
    "  print(labs.T)\n",
    "  print(' ')"
   ]
  },
  {
   "cell_type": "code",
   "execution_count": 40,
   "metadata": {
    "id": "zyeJ6mjjre6p"
   },
   "outputs": [
    {
     "name": "stdout",
     "output_type": "stream",
     "text": [
      "tensor([[4., 2., 3., 3., 4., 2., 1., 2., 2., 3., 4., 3., 4., 4., 1., 3., 1., 1.,\n",
      "         4., 3., 4., 3., 4., 1., 1.]])\n",
      " \n",
      "tensor([[4., 1., 1., 2., 3., 1., 4., 3., 1., 1., 2., 3., 3., 3., 2., 1., 1., 3.,\n",
      "         4., 4., 4., 4., 2., 4., 2.]])\n",
      " \n",
      "tensor([[3., 2., 4., 2., 1., 4., 3., 1., 2., 3., 3., 4., 3., 3., 2., 2., 3., 2.,\n",
      "         1., 2., 2., 1., 3., 2., 3.]])\n",
      " \n",
      "tensor([[2., 1., 4., 4., 1., 4., 1., 3., 2., 4., 1., 1., 2., 1., 4., 2., 2., 2.,\n",
      "         1., 4., 1., 3., 4., 3., 2.]])\n",
      " \n"
     ]
    }
   ],
   "source": [
    "# try again with shuffling (shuffling happens during iterations)\n",
    "# dataloader = DataLoader(dataset,batch_size=batchsize,shuffle=True)\n",
    "\n",
    "for dat,labs in dataloader:\n",
    "  print(labs.T)\n",
    "  print(' ')"
   ]
  },
  {
   "cell_type": "code",
   "execution_count": 50,
   "metadata": {
    "id": "S236TLLury42"
   },
   "outputs": [
    {
     "data": {
      "text/plain": [
       "tensor([[2.],\n",
       "        [3.],\n",
       "        [4.],\n",
       "        [3.],\n",
       "        [2.],\n",
       "        [1.],\n",
       "        [2.],\n",
       "        [1.],\n",
       "        [3.],\n",
       "        [3.],\n",
       "        [3.],\n",
       "        [1.],\n",
       "        [2.],\n",
       "        [4.],\n",
       "        [1.],\n",
       "        [4.],\n",
       "        [3.],\n",
       "        [1.],\n",
       "        [1.],\n",
       "        [1.],\n",
       "        [3.],\n",
       "        [4.],\n",
       "        [4.],\n",
       "        [4.],\n",
       "        [3.]])"
      ]
     },
     "execution_count": 50,
     "metadata": {},
     "output_type": "execute_result"
    }
   ],
   "source": [
    "# To get only one batch (e.g., for testing)\n",
    "\n",
    "dat,labs = next(iter(dataloader))\n",
    "\n",
    "labs"
   ]
  },
  {
   "cell_type": "code",
   "execution_count": 56,
   "metadata": {},
   "outputs": [
    {
     "data": {
      "text/plain": [
       "[tensor([[-1.2176e+00, -1.0600e+00,  1.3773e+00, -2.0692e-01,  3.5014e-01,\n",
       "          -5.5920e-01, -9.3903e-01,  1.7570e+00, -6.3880e-01, -1.2483e-01,\n",
       "           9.8132e-01, -6.8762e-01, -5.0401e-01,  6.3474e-01,  2.0590e+00,\n",
       "          -1.0898e+00, -1.1040e+00,  2.2441e-01, -4.2010e-01,  1.5521e+00],\n",
       "         [-3.1848e-01, -5.0513e-01,  1.8369e+00,  8.9383e-01, -4.5666e-01,\n",
       "          -1.3548e+00,  1.2022e+00, -1.2216e+00,  1.2792e+00,  5.7821e-01,\n",
       "          -7.4716e-01, -5.0253e-01,  3.0975e-01, -2.0060e+00,  1.4655e+00,\n",
       "          -1.0543e+00,  1.2481e+00,  3.5207e-01, -5.6132e-01, -6.2854e-02],\n",
       "         [ 6.5771e-01,  2.7950e-01, -1.1058e+00,  1.8530e+00, -7.2894e-01,\n",
       "          -1.1508e-01, -5.6146e-01,  1.9489e+00, -1.5967e-01,  9.4240e-02,\n",
       "           4.0581e-01,  4.5450e-02,  1.0266e+00, -6.7366e-01,  1.4480e+00,\n",
       "           6.1255e-01,  1.1715e-01, -1.8482e+00,  2.0969e+00, -2.2161e+00],\n",
       "         [ 1.2532e-01, -8.9717e-01,  5.7965e-02, -7.5585e-01, -2.9874e-01,\n",
       "          -3.5239e-01, -7.4225e-01, -1.1986e-01,  3.5593e-01,  1.4804e-01,\n",
       "           2.8067e-01, -1.3187e+00,  5.1961e-01,  2.7865e-01,  4.5569e-01,\n",
       "           9.0401e-01,  1.9544e-01,  5.7587e-01, -1.5109e+00,  6.2790e-01],\n",
       "         [-1.3135e+00,  1.5348e+00,  1.4088e+00, -1.2414e+00, -7.8631e-02,\n",
       "          -8.5919e-01,  3.7517e-01, -8.0204e-01, -1.1897e+00,  5.9381e-01,\n",
       "           5.4397e-01, -1.4524e+00,  1.0753e+00, -1.0114e+00, -1.0099e+00,\n",
       "           1.4782e+00, -6.8957e-01, -1.5129e+00, -3.0269e-01, -2.9051e-01],\n",
       "         [ 9.6091e-02, -1.9057e-01, -8.4118e-04, -1.1770e+00, -3.2199e+00,\n",
       "           6.9565e-01,  7.8091e-01, -2.2955e-01,  1.8252e+00, -1.1001e+00,\n",
       "           9.5648e-01,  5.3978e-01, -8.0688e-01,  2.5773e-01,  7.8624e-01,\n",
       "           1.9305e+00, -3.6867e-02,  3.3249e-01,  1.7122e+00,  1.3742e+00],\n",
       "         [ 6.4758e-01, -4.3369e-01,  1.3891e+00,  4.7962e-01, -1.0797e+00,\n",
       "           1.1181e+00,  2.0525e+00, -1.8033e+00,  1.2338e+00,  4.8025e-01,\n",
       "          -1.3464e+00,  7.3980e-01,  3.0279e-02, -2.7281e-01,  1.5560e+00,\n",
       "          -2.1430e+00, -2.3316e-01, -3.6689e-01, -1.6103e+00, -6.1439e-01],\n",
       "         [-6.0223e-01, -7.2415e-01,  1.4286e-01, -9.1174e-01,  9.9926e-01,\n",
       "           2.1071e-01,  9.9098e-01,  2.8174e-01,  7.7324e-01,  2.2797e-01,\n",
       "           6.4477e-01, -1.8292e+00, -1.2534e+00, -2.0966e-01, -7.1141e-01,\n",
       "          -9.8459e-01,  1.1386e+00, -3.7703e-01, -1.3487e+00,  1.4506e+00],\n",
       "         [-3.9477e-01,  2.0023e+00, -6.0262e-01, -2.0145e+00,  4.3899e-02,\n",
       "           2.6340e-01,  1.8022e+00,  1.1562e+00, -1.2609e+00, -1.9368e-01,\n",
       "           1.0766e+00, -1.5037e+00, -6.7868e-01, -1.8515e+00, -3.6330e-01,\n",
       "          -6.9034e-01, -1.2304e+00, -2.3696e-01,  1.6030e-01,  1.2054e+00],\n",
       "         [ 1.0401e+00, -1.0459e-01,  5.0442e-03, -3.4611e-01, -4.5885e-02,\n",
       "           1.0177e+00,  1.5367e+00,  7.7191e-02,  5.3825e-01, -1.0246e+00,\n",
       "           4.2391e-01,  4.5963e-01, -1.0021e-02, -5.0726e-01, -8.1282e-01,\n",
       "          -8.8725e-01, -4.8813e-01, -5.3307e-01,  3.3741e-01, -1.1870e-02],\n",
       "         [-1.5731e+00, -2.1411e+00,  1.2728e+00, -5.0288e-01, -7.3050e-01,\n",
       "          -1.6775e+00,  1.1883e-01, -7.8030e-01, -9.4139e-03, -2.2447e+00,\n",
       "           1.6415e-02,  7.3279e-01,  1.8617e+00, -2.0101e+00,  3.8529e-01,\n",
       "          -8.2719e-01, -6.6749e-01, -6.9960e-01,  9.2651e-01,  1.1092e-01],\n",
       "         [ 6.9777e-01,  1.0699e-01, -2.7856e-01,  5.8228e-01,  3.8159e-01,\n",
       "           4.9600e-01, -3.1955e-01, -5.0031e-01, -3.2685e-01, -1.1707e+00,\n",
       "           1.2727e-01, -1.4008e+00, -1.6342e-01,  1.0652e+00, -2.7084e-01,\n",
       "          -1.4063e+00, -3.2276e-02, -8.2273e-01,  1.2237e+00, -8.8541e-01],\n",
       "         [ 5.1778e-01, -5.2119e-01, -1.4913e+00, -3.4773e-02,  1.1190e+00,\n",
       "           1.6292e-02, -6.1690e-01, -2.9683e+00,  1.2044e-01,  2.0368e+00,\n",
       "           1.2263e+00, -1.0622e+00, -5.1347e-01,  1.4431e+00, -9.5670e-01,\n",
       "          -6.2276e-01, -4.3899e-01,  2.5266e+00, -6.6400e-01, -1.1961e+00],\n",
       "         [-6.5521e-01, -1.8289e+00,  1.8834e-01,  1.5085e+00, -1.6804e-01,\n",
       "          -9.9581e-01, -1.4951e+00,  2.6492e-01, -1.8283e+00, -1.1769e+00,\n",
       "           3.0667e-01, -4.8524e-01, -1.8928e-01, -2.7610e-01, -7.6279e-01,\n",
       "           3.4938e-01, -1.1923e+00,  5.8678e-01, -7.9574e-01,  4.5575e-02],\n",
       "         [ 1.1540e-01, -2.4342e+00,  1.9601e+00,  1.8726e-01,  1.0529e+00,\n",
       "           1.3742e-01, -1.9795e-01, -6.0790e-01,  7.1353e-01,  3.5450e-01,\n",
       "          -1.0248e-01,  4.6841e-01,  2.1627e+00, -2.3563e+00, -1.4766e-01,\n",
       "          -8.2131e-01, -2.9379e-01, -9.8206e-01,  3.1380e-02,  3.5409e-01],\n",
       "         [-5.8966e-01,  2.4908e+00,  2.3314e-01, -1.2968e+00, -3.0801e-01,\n",
       "          -1.1179e+00,  1.5889e+00,  1.8246e-02,  7.9891e-01,  2.1133e+00,\n",
       "           7.9532e-01,  1.6078e-01, -1.1049e+00,  4.9949e-01, -2.4369e-01,\n",
       "          -1.3792e+00, -1.4981e+00,  1.8193e-01,  1.9966e+00, -1.8644e+00],\n",
       "         [ 7.6521e-01, -1.4198e-02,  3.7418e-02, -1.1887e+00, -1.2020e+00,\n",
       "           1.2206e+00,  8.6685e-01,  2.5092e+00, -1.5598e+00, -2.5658e-01,\n",
       "          -1.3679e+00,  5.9704e-01,  7.2292e-01, -1.6426e+00,  1.1764e+00,\n",
       "           1.0738e+00, -1.2662e+00, -1.2157e+00,  3.4143e-01,  1.6143e-01],\n",
       "         [-1.3097e-01, -5.6575e-01, -1.0109e+00,  1.5855e+00, -2.0374e+00,\n",
       "           2.3604e-01, -1.0983e+00, -2.6382e-01, -8.1895e-01,  2.7182e-02,\n",
       "           1.1206e+00,  1.6473e+00,  4.3204e-01, -1.1531e+00, -5.0240e-01,\n",
       "          -4.9433e-01, -3.7557e-01, -1.9297e+00, -7.4836e-01, -1.1131e+00],\n",
       "         [ 5.2422e-01, -2.0146e+00,  1.0057e+00,  9.1652e-01,  4.8092e-01,\n",
       "          -1.6498e+00, -5.3267e-01, -1.1133e+00,  1.1404e-01, -9.3112e-01,\n",
       "           5.1802e-01, -1.0348e-01,  4.2388e-01,  1.1327e+00,  1.1819e+00,\n",
       "           1.4826e-01, -2.1020e+00, -5.6627e-01,  1.6768e+00,  4.5798e-01],\n",
       "         [ 3.2142e-01,  1.4819e+00,  1.4775e+00,  7.6759e-02, -2.3759e-01,\n",
       "          -9.0543e-01, -3.5429e-01, -6.8084e-01, -9.3356e-01,  2.8959e+00,\n",
       "           4.2021e-01, -1.7087e+00,  2.1823e+00, -9.6989e-01,  8.9444e-01,\n",
       "           1.2353e+00,  1.2949e+00, -5.4685e-01,  2.0568e+00, -1.5943e+00],\n",
       "         [-2.3925e-01,  2.1520e+00, -2.6595e+00, -4.0219e-01, -5.5985e-01,\n",
       "           1.1248e+00,  8.7522e-01,  7.8896e-01,  8.5908e-01, -1.8088e+00,\n",
       "          -1.3372e+00, -6.0901e-01,  2.2131e-01, -6.0729e-01,  8.6464e-01,\n",
       "           2.9955e-01, -1.0253e-01,  1.0304e+00, -1.1221e+00, -7.6531e-01],\n",
       "         [-3.5499e-01,  6.7866e-01, -3.5118e-01,  2.8140e-01,  7.6729e-01,\n",
       "           2.0352e+00,  1.0092e+00, -1.1720e-01, -4.4871e-01, -8.4705e-01,\n",
       "          -4.9671e-01,  9.4437e-01,  2.8549e-01, -1.6607e-01,  7.0548e-02,\n",
       "           4.1814e-01, -2.2591e-01, -5.3049e-01,  3.4797e-01, -3.0483e-01],\n",
       "         [ 1.3925e+00, -1.0243e+00,  5.6674e-01,  1.0958e+00, -7.0461e-01,\n",
       "          -1.8509e+00,  1.2958e+00,  8.3386e-01, -1.0459e+00, -8.4196e-01,\n",
       "           2.0540e+00, -1.0626e+00, -2.3179e-01, -7.1392e-01,  7.6248e-01,\n",
       "           1.0488e-01, -7.6577e-01, -9.6825e-01,  8.1564e-01,  1.8696e-01],\n",
       "         [-6.7524e-01, -7.5848e-01, -4.0994e-02,  1.5290e+00, -1.1094e-01,\n",
       "          -2.6611e-01, -3.8845e-01,  1.0697e+00,  1.4689e+00,  2.2245e+00,\n",
       "          -1.7905e-01,  4.5225e-03,  9.4910e-01,  3.5422e-01, -2.1324e+00,\n",
       "          -1.1813e+00, -2.1126e-01, -7.6940e-02,  1.4964e-01,  6.8834e-01],\n",
       "         [ 1.9346e+00, -3.6340e-01,  1.9855e+00, -8.5128e-01,  3.1437e-01,\n",
       "           4.2109e-02, -2.4891e-01, -5.6509e-01,  1.6029e+00, -1.4856e+00,\n",
       "          -1.1088e+00, -1.7261e-01, -1.4521e+00,  8.0199e-01, -1.5468e-01,\n",
       "          -7.3532e-01,  1.5601e+00,  7.5176e-01, -1.3152e+00, -6.2817e-01]],\n",
       "        dtype=torch.float64),\n",
       " tensor([[1.],\n",
       "         [1.],\n",
       "         [2.],\n",
       "         [4.],\n",
       "         [2.],\n",
       "         [3.],\n",
       "         [2.],\n",
       "         [2.],\n",
       "         [4.],\n",
       "         [1.],\n",
       "         [3.],\n",
       "         [3.],\n",
       "         [2.],\n",
       "         [3.],\n",
       "         [4.],\n",
       "         [3.],\n",
       "         [1.],\n",
       "         [3.],\n",
       "         [2.],\n",
       "         [1.],\n",
       "         [1.],\n",
       "         [4.],\n",
       "         [3.],\n",
       "         [4.],\n",
       "         [3.]])]"
      ]
     },
     "execution_count": 56,
     "metadata": {},
     "output_type": "execute_result"
    }
   ],
   "source": [
    "next(iter(dataloader))"
   ]
  }
 ],
 "metadata": {
  "colab": {
   "authorship_tag": "ABX9TyMDTrf0kN4swdushiJqB9Kn",
   "collapsed_sections": [],
   "name": "DUDL_data_datasetLoader.ipynb",
   "provenance": [
    {
     "file_id": "1t1AgKE-GpPPUcjGZyTF_Ie1Q9XWA3xn-",
     "timestamp": 1618172332728
    },
    {
     "file_id": "1qKgZ8kVcqNgwtBzHbWq5yJH_HqI6DxWW",
     "timestamp": 1617803880910
    },
    {
     "file_id": "15cpyHkJ435B4MqbyGjAH1poN4nCy_DE4",
     "timestamp": 1617737766196
    },
    {
     "file_id": "1OLuWuaFu0hcFgkQ2hh5BqbRuqUZD7XcQ",
     "timestamp": 1617734878578
    },
    {
     "file_id": "1XvzVGJPTJifVh8OpZVB7ykLxyUqYwQ1j",
     "timestamp": 1617196833019
    },
    {
     "file_id": "1bv1_y32e3KEExFKKlPfC3rpw1JxmBr8H",
     "timestamp": 1617124341706
    },
    {
     "file_id": "1GMq8u7KyHB2AE7Teyls9gK1T01OduQSn",
     "timestamp": 1616697516760
    },
    {
     "file_id": "1Ui3kyHim-e0XLgDs2mkBxVlYg7TKYtcg",
     "timestamp": 1616615469755
    },
    {
     "file_id": "1YpHocGI4rApOxIBb1ZghCU5L-hFnv4CK",
     "timestamp": 1616608248670
    }
   ]
  },
  "kernelspec": {
   "display_name": "MLFlow_env",
   "language": "python",
   "name": "python3"
  },
  "language_info": {
   "codemirror_mode": {
    "name": "ipython",
    "version": 3
   },
   "file_extension": ".py",
   "mimetype": "text/x-python",
   "name": "python",
   "nbconvert_exporter": "python",
   "pygments_lexer": "ipython3",
   "version": "3.10.14"
  }
 },
 "nbformat": 4,
 "nbformat_minor": 0
}
